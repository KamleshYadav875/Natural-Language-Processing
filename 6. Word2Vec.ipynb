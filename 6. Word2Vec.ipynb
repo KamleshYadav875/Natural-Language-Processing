{
 "cells": [
  {
   "cell_type": "markdown",
   "metadata": {},
   "source": [
    "# <center> Word2vec</center>\n",
    "**Word2Vec is one of the most popular technique to learn word embeddings using shallow neural network.**"
   ]
  },
  {
   "cell_type": "markdown",
   "metadata": {},
   "source": [
    "# 1. Loading dependencies"
   ]
  },
  {
   "cell_type": "code",
   "execution_count": 13,
   "metadata": {},
   "outputs": [],
   "source": [
    "import nltk\n",
    "from nltk.tokenize import sent_tokenize, word_tokenize\n",
    "from nltk.corpus import stopwords\n",
    "from nltk.stem import WordNetLemmatizer\n",
    "from gensim.models import Word2Vec\n",
    "import re"
   ]
  },
  {
   "cell_type": "markdown",
   "metadata": {},
   "source": [
    "# 2. Text"
   ]
  },
  {
   "cell_type": "code",
   "execution_count": 2,
   "metadata": {},
   "outputs": [],
   "source": [
    "text = \"\"\"Hello! Good morning to every last one of you presents over here. Before going ahead of I would like to extend a warm welcome to every person present over here. I am thankful to everyone present over here for giving me this beautiful opportunity to share my words about the most amazing person that ever lived, Dr. APJ Abdul Kalam. Dr. APJ Abdul Kalam was indeed one of the most humble, intelligent, \n",
    "wise, selfless, loving, and lovable leaders ever born. He was born on 15 October 1931 in Rameswaram, Tamil Nadu. He was the 11th President of India and served the country for one term. Not only this, but he also is one of the most famous scientists who have worked with highly famous organizations like DRDO (Defense Research and Development Organization) and ISRO (Indian Space Research Organization) in his career.\n",
    "He was a true gem and a person with no haters. But let us first know a little more about him. His full name was Avul Pakir Jainulabdeen Abdul Kalam. He was born in a middle-class Muslim family. Since the beginning of his days, he was a very hardworking and diligent person. In his early childhood, he helped his family to earn livelihood along with the studies. Being very intelligent and promising, he started his career and life soon.\n",
    "He saw a lot of hardships on his way to success. There was a time when his sister sold her jewelry to pay his college fees. After completing his graduation, he joined the defense department to serve the nation. And from there the journey of the famous scientist started to a never-ending tale of success. He was one of the various scientists in India who worked for the development of nuclear power. For his work, he also earned various awards and prizes.\n",
    "Dr. Kalam was one of the most important figures in the testing of the Pokhran-II in the year 1988. Politics never attracted Dr. Kalam. But in the year 2002, Indian National Democratic Alliance requested him to nominate him for the post of the President. Thinking of the nation and keen eagerness to work for the country, made him say yes. With the support of the Indian National Democratic Alliance, he won the elections and was selected as the President of India.\n",
    "He was a man of dreams and ideas. He dreamt of making India one of the super-powers in the world. His idea of dreaming was really different. He emphasized that the dreams are not those which you see when you sleep but are those which never let you sleep. Undoubtedly, these are the precious words of wisdom. He always encouraged everyone to work hard and not think about the result. He believed, if you work hard, you will definitely get the result as well.\n",
    "Some countless efforts and contributions are made by Dr. Kalam for the sake of the nation. He was awarded by Bharat Ratna in the year 1997. But, the biggest grief is that we have no longer this beautiful amongst us. While delivering his speech at the Institute of Management, Shillong he got cardiac arrest and collapsed. Even after great efforts, he left us, making 27 July 2015 one of the saddest days in the history of India.\n",
    "At last, I would like to say even though he left us, he is still in our hearts as the inspiration and the motivation. His golden words and miraculous deeds will always be remembered. He was a man of high stature and value who taught us the way to transform our nation and we shall always be grateful to him.\n",
    "Much thank you to all of you. Have a great evening!\"\"\""
   ]
  },
  {
   "cell_type": "markdown",
   "metadata": {},
   "source": [
    "# 3. Data Preprocessing"
   ]
  },
  {
   "cell_type": "code",
   "execution_count": 8,
   "metadata": {},
   "outputs": [],
   "source": [
    "wordNet = WordNetLemmatizer()\n",
    "sentance = sent_tokenize(text)\n",
    "corpus = []\n",
    "for i in range(len(sentance)):\n",
    "    review = sentance[i]\n",
    "    review = re.sub('[^a-zA-Z]',\" \", review)\n",
    "    review = review.lower()\n",
    "    review = review.split()\n",
    "    review = [wordNet.lemmatize(word) for word in review if word not in stopwords.words(\"english\")]\n",
    "    corpus.append(review)"
   ]
  },
  {
   "cell_type": "markdown",
   "metadata": {},
   "source": [
    "# 4. Implement Word2vec"
   ]
  },
  {
   "cell_type": "code",
   "execution_count": 16,
   "metadata": {},
   "outputs": [],
   "source": [
    "model = Word2Vec(corpus, min_count=1)"
   ]
  },
  {
   "cell_type": "code",
   "execution_count": 18,
   "metadata": {},
   "outputs": [],
   "source": [
    "words = model.wv.vocab"
   ]
  },
  {
   "cell_type": "code",
   "execution_count": 19,
   "metadata": {},
   "outputs": [
    {
     "data": {
      "text/plain": [
       "{'hello': <gensim.models.keyedvectors.Vocab at 0x1ca7ac1ecc8>,\n",
       " 'good': <gensim.models.keyedvectors.Vocab at 0x1ca7ac1ed08>,\n",
       " 'morning': <gensim.models.keyedvectors.Vocab at 0x1ca7ac1ed48>,\n",
       " 'every': <gensim.models.keyedvectors.Vocab at 0x1ca7ac1ed88>,\n",
       " 'last': <gensim.models.keyedvectors.Vocab at 0x1ca7ac1ee08>,\n",
       " 'one': <gensim.models.keyedvectors.Vocab at 0x1ca7ac1ee88>,\n",
       " 'present': <gensim.models.keyedvectors.Vocab at 0x1ca7ac1eec8>,\n",
       " 'going': <gensim.models.keyedvectors.Vocab at 0x1ca7ac1ef08>,\n",
       " 'ahead': <gensim.models.keyedvectors.Vocab at 0x1ca7ac1edc8>,\n",
       " 'would': <gensim.models.keyedvectors.Vocab at 0x1ca7ac1ee48>,\n",
       " 'like': <gensim.models.keyedvectors.Vocab at 0x1ca7ac1ef48>,\n",
       " 'extend': <gensim.models.keyedvectors.Vocab at 0x1ca7ac1ef88>,\n",
       " 'warm': <gensim.models.keyedvectors.Vocab at 0x1ca7ac1efc8>,\n",
       " 'welcome': <gensim.models.keyedvectors.Vocab at 0x1ca7ac1f048>,\n",
       " 'person': <gensim.models.keyedvectors.Vocab at 0x1ca7ac1f088>,\n",
       " 'thankful': <gensim.models.keyedvectors.Vocab at 0x1ca7ac1f0c8>,\n",
       " 'everyone': <gensim.models.keyedvectors.Vocab at 0x1ca7ac1f108>,\n",
       " 'giving': <gensim.models.keyedvectors.Vocab at 0x1ca7ac1f148>,\n",
       " 'beautiful': <gensim.models.keyedvectors.Vocab at 0x1ca7ac1f188>,\n",
       " 'opportunity': <gensim.models.keyedvectors.Vocab at 0x1ca7ac1f1c8>,\n",
       " 'share': <gensim.models.keyedvectors.Vocab at 0x1ca7ac1f208>,\n",
       " 'word': <gensim.models.keyedvectors.Vocab at 0x1ca7ac1f248>,\n",
       " 'amazing': <gensim.models.keyedvectors.Vocab at 0x1ca7ac1f288>,\n",
       " 'ever': <gensim.models.keyedvectors.Vocab at 0x1ca7ac1f2c8>,\n",
       " 'lived': <gensim.models.keyedvectors.Vocab at 0x1ca7ac1f308>,\n",
       " 'dr': <gensim.models.keyedvectors.Vocab at 0x1ca7ac1f348>,\n",
       " 'apj': <gensim.models.keyedvectors.Vocab at 0x1ca7ac1f388>,\n",
       " 'abdul': <gensim.models.keyedvectors.Vocab at 0x1ca7ac1f3c8>,\n",
       " 'kalam': <gensim.models.keyedvectors.Vocab at 0x1ca7ac1f408>,\n",
       " 'indeed': <gensim.models.keyedvectors.Vocab at 0x1ca7ac1f448>,\n",
       " 'humble': <gensim.models.keyedvectors.Vocab at 0x1ca7ac1f488>,\n",
       " 'intelligent': <gensim.models.keyedvectors.Vocab at 0x1ca7ac1f4c8>,\n",
       " 'wise': <gensim.models.keyedvectors.Vocab at 0x1ca7ac1f508>,\n",
       " 'selfless': <gensim.models.keyedvectors.Vocab at 0x1ca7ac1f548>,\n",
       " 'loving': <gensim.models.keyedvectors.Vocab at 0x1ca7ac1f588>,\n",
       " 'lovable': <gensim.models.keyedvectors.Vocab at 0x1ca7ac1f5c8>,\n",
       " 'leader': <gensim.models.keyedvectors.Vocab at 0x1ca7ac1f608>,\n",
       " 'born': <gensim.models.keyedvectors.Vocab at 0x1ca7ac1f648>,\n",
       " 'october': <gensim.models.keyedvectors.Vocab at 0x1ca7ac1f688>,\n",
       " 'rameswaram': <gensim.models.keyedvectors.Vocab at 0x1ca7ac1f6c8>,\n",
       " 'tamil': <gensim.models.keyedvectors.Vocab at 0x1ca7ac1f708>,\n",
       " 'nadu': <gensim.models.keyedvectors.Vocab at 0x1ca7ac1f748>,\n",
       " 'th': <gensim.models.keyedvectors.Vocab at 0x1ca7ac1f788>,\n",
       " 'president': <gensim.models.keyedvectors.Vocab at 0x1ca7ac1f7c8>,\n",
       " 'india': <gensim.models.keyedvectors.Vocab at 0x1ca7ac1f808>,\n",
       " 'served': <gensim.models.keyedvectors.Vocab at 0x1ca7ac1f848>,\n",
       " 'country': <gensim.models.keyedvectors.Vocab at 0x1ca7ac1f888>,\n",
       " 'term': <gensim.models.keyedvectors.Vocab at 0x1ca7ac1f8c8>,\n",
       " 'also': <gensim.models.keyedvectors.Vocab at 0x1ca7ac1f908>,\n",
       " 'famous': <gensim.models.keyedvectors.Vocab at 0x1ca7ac1f948>,\n",
       " 'scientist': <gensim.models.keyedvectors.Vocab at 0x1ca7ac1f988>,\n",
       " 'worked': <gensim.models.keyedvectors.Vocab at 0x1ca7ac1f9c8>,\n",
       " 'highly': <gensim.models.keyedvectors.Vocab at 0x1ca7ac1fa08>,\n",
       " 'organization': <gensim.models.keyedvectors.Vocab at 0x1ca7ac1fa48>,\n",
       " 'drdo': <gensim.models.keyedvectors.Vocab at 0x1ca7ac1fa88>,\n",
       " 'defense': <gensim.models.keyedvectors.Vocab at 0x1ca7ac1fac8>,\n",
       " 'research': <gensim.models.keyedvectors.Vocab at 0x1ca7ac1fb08>,\n",
       " 'development': <gensim.models.keyedvectors.Vocab at 0x1ca7ac1fb48>,\n",
       " 'isro': <gensim.models.keyedvectors.Vocab at 0x1ca7ac1fb88>,\n",
       " 'indian': <gensim.models.keyedvectors.Vocab at 0x1ca7ac1fbc8>,\n",
       " 'space': <gensim.models.keyedvectors.Vocab at 0x1ca7ac1fc08>,\n",
       " 'career': <gensim.models.keyedvectors.Vocab at 0x1ca7ac1fc48>,\n",
       " 'true': <gensim.models.keyedvectors.Vocab at 0x1ca7ac1fc88>,\n",
       " 'gem': <gensim.models.keyedvectors.Vocab at 0x1ca7abbf188>,\n",
       " 'hater': <gensim.models.keyedvectors.Vocab at 0x1ca7abbf048>,\n",
       " 'let': <gensim.models.keyedvectors.Vocab at 0x1ca7abbff08>,\n",
       " 'u': <gensim.models.keyedvectors.Vocab at 0x1ca7abbfec8>,\n",
       " 'first': <gensim.models.keyedvectors.Vocab at 0x1ca7abbfc48>,\n",
       " 'know': <gensim.models.keyedvectors.Vocab at 0x1ca7abbf0c8>,\n",
       " 'little': <gensim.models.keyedvectors.Vocab at 0x1ca7abbf9c8>,\n",
       " 'full': <gensim.models.keyedvectors.Vocab at 0x1ca7abd97c8>,\n",
       " 'name': <gensim.models.keyedvectors.Vocab at 0x1ca7abd9d08>,\n",
       " 'avul': <gensim.models.keyedvectors.Vocab at 0x1ca7abd98c8>,\n",
       " 'pakir': <gensim.models.keyedvectors.Vocab at 0x1ca7abd9548>,\n",
       " 'jainulabdeen': <gensim.models.keyedvectors.Vocab at 0x1ca7abd9948>,\n",
       " 'middle': <gensim.models.keyedvectors.Vocab at 0x1ca7abd9b48>,\n",
       " 'class': <gensim.models.keyedvectors.Vocab at 0x1ca7abd93c8>,\n",
       " 'muslim': <gensim.models.keyedvectors.Vocab at 0x1ca7ac1bac8>,\n",
       " 'family': <gensim.models.keyedvectors.Vocab at 0x1ca7ac1b7c8>,\n",
       " 'since': <gensim.models.keyedvectors.Vocab at 0x1ca7ac1ba08>,\n",
       " 'beginning': <gensim.models.keyedvectors.Vocab at 0x1ca7ac1ba88>,\n",
       " 'day': <gensim.models.keyedvectors.Vocab at 0x1ca7ac1a048>,\n",
       " 'hardworking': <gensim.models.keyedvectors.Vocab at 0x1ca7636ce08>,\n",
       " 'diligent': <gensim.models.keyedvectors.Vocab at 0x1ca75fe9d48>,\n",
       " 'early': <gensim.models.keyedvectors.Vocab at 0x1ca75f7c788>,\n",
       " 'childhood': <gensim.models.keyedvectors.Vocab at 0x1ca7ac19448>,\n",
       " 'helped': <gensim.models.keyedvectors.Vocab at 0x1ca7ac19508>,\n",
       " 'earn': <gensim.models.keyedvectors.Vocab at 0x1ca7ac19708>,\n",
       " 'livelihood': <gensim.models.keyedvectors.Vocab at 0x1ca7ac19048>,\n",
       " 'along': <gensim.models.keyedvectors.Vocab at 0x1ca7ac196c8>,\n",
       " 'study': <gensim.models.keyedvectors.Vocab at 0x1ca7ac19148>,\n",
       " 'promising': <gensim.models.keyedvectors.Vocab at 0x1ca7ac195c8>,\n",
       " 'started': <gensim.models.keyedvectors.Vocab at 0x1ca7ac19988>,\n",
       " 'life': <gensim.models.keyedvectors.Vocab at 0x1ca7ac192c8>,\n",
       " 'soon': <gensim.models.keyedvectors.Vocab at 0x1ca7ac19388>,\n",
       " 'saw': <gensim.models.keyedvectors.Vocab at 0x1ca7ac194c8>,\n",
       " 'lot': <gensim.models.keyedvectors.Vocab at 0x1ca7ac19248>,\n",
       " 'hardship': <gensim.models.keyedvectors.Vocab at 0x1ca7ac19808>,\n",
       " 'way': <gensim.models.keyedvectors.Vocab at 0x1ca7ac19488>,\n",
       " 'success': <gensim.models.keyedvectors.Vocab at 0x1ca7ac19788>,\n",
       " 'time': <gensim.models.keyedvectors.Vocab at 0x1ca763cba88>,\n",
       " 'sister': <gensim.models.keyedvectors.Vocab at 0x1ca763e9388>,\n",
       " 'sold': <gensim.models.keyedvectors.Vocab at 0x1ca763e9748>,\n",
       " 'jewelry': <gensim.models.keyedvectors.Vocab at 0x1ca763ddc88>,\n",
       " 'pay': <gensim.models.keyedvectors.Vocab at 0x1ca763dda08>,\n",
       " 'college': <gensim.models.keyedvectors.Vocab at 0x1ca7abdca08>,\n",
       " 'fee': <gensim.models.keyedvectors.Vocab at 0x1ca7abdc9c8>,\n",
       " 'completing': <gensim.models.keyedvectors.Vocab at 0x1ca7abdc6c8>,\n",
       " 'graduation': <gensim.models.keyedvectors.Vocab at 0x1ca7abdcb08>,\n",
       " 'joined': <gensim.models.keyedvectors.Vocab at 0x1ca7abdc688>,\n",
       " 'department': <gensim.models.keyedvectors.Vocab at 0x1ca7abdc748>,\n",
       " 'serve': <gensim.models.keyedvectors.Vocab at 0x1ca7abfff08>,\n",
       " 'nation': <gensim.models.keyedvectors.Vocab at 0x1ca76366a48>,\n",
       " 'journey': <gensim.models.keyedvectors.Vocab at 0x1ca75940b08>,\n",
       " 'never': <gensim.models.keyedvectors.Vocab at 0x1ca7abcf348>,\n",
       " 'ending': <gensim.models.keyedvectors.Vocab at 0x1ca7abcfdc8>,\n",
       " 'tale': <gensim.models.keyedvectors.Vocab at 0x1ca7abcf408>,\n",
       " 'various': <gensim.models.keyedvectors.Vocab at 0x1ca7abcfd88>,\n",
       " 'nuclear': <gensim.models.keyedvectors.Vocab at 0x1ca7abcfb88>,\n",
       " 'power': <gensim.models.keyedvectors.Vocab at 0x1ca7abcf608>,\n",
       " 'work': <gensim.models.keyedvectors.Vocab at 0x1ca7abcf388>,\n",
       " 'earned': <gensim.models.keyedvectors.Vocab at 0x1ca7abcf088>,\n",
       " 'award': <gensim.models.keyedvectors.Vocab at 0x1ca7abcf7c8>,\n",
       " 'prize': <gensim.models.keyedvectors.Vocab at 0x1ca7abcfcc8>,\n",
       " 'important': <gensim.models.keyedvectors.Vocab at 0x1ca7abcf788>,\n",
       " 'figure': <gensim.models.keyedvectors.Vocab at 0x1ca7abcfa88>,\n",
       " 'testing': <gensim.models.keyedvectors.Vocab at 0x1ca7abcf948>,\n",
       " 'pokhran': <gensim.models.keyedvectors.Vocab at 0x1ca7abcf588>,\n",
       " 'ii': <gensim.models.keyedvectors.Vocab at 0x1ca7abcfa48>,\n",
       " 'year': <gensim.models.keyedvectors.Vocab at 0x1ca7abcf808>,\n",
       " 'politics': <gensim.models.keyedvectors.Vocab at 0x1ca7abcf888>,\n",
       " 'attracted': <gensim.models.keyedvectors.Vocab at 0x1ca7abcfd08>,\n",
       " 'national': <gensim.models.keyedvectors.Vocab at 0x1ca7abcfac8>,\n",
       " 'democratic': <gensim.models.keyedvectors.Vocab at 0x1ca7abcf9c8>,\n",
       " 'alliance': <gensim.models.keyedvectors.Vocab at 0x1ca7abcf1c8>,\n",
       " 'requested': <gensim.models.keyedvectors.Vocab at 0x1ca7abcf048>,\n",
       " 'nominate': <gensim.models.keyedvectors.Vocab at 0x1ca7abcf848>,\n",
       " 'post': <gensim.models.keyedvectors.Vocab at 0x1ca7abcfe08>,\n",
       " 'thinking': <gensim.models.keyedvectors.Vocab at 0x1ca7abcfc08>,\n",
       " 'keen': <gensim.models.keyedvectors.Vocab at 0x1ca7abcfe48>,\n",
       " 'eagerness': <gensim.models.keyedvectors.Vocab at 0x1ca7abcfb08>,\n",
       " 'made': <gensim.models.keyedvectors.Vocab at 0x1ca7abcf148>,\n",
       " 'say': <gensim.models.keyedvectors.Vocab at 0x1ca7abcf688>,\n",
       " 'yes': <gensim.models.keyedvectors.Vocab at 0x1ca7abcf108>,\n",
       " 'support': <gensim.models.keyedvectors.Vocab at 0x1ca7abcfd48>,\n",
       " 'election': <gensim.models.keyedvectors.Vocab at 0x1ca7abcfec8>,\n",
       " 'selected': <gensim.models.keyedvectors.Vocab at 0x1ca7abcfc48>,\n",
       " 'man': <gensim.models.keyedvectors.Vocab at 0x1ca7abcf2c8>,\n",
       " 'dream': <gensim.models.keyedvectors.Vocab at 0x1ca7abcff48>,\n",
       " 'idea': <gensim.models.keyedvectors.Vocab at 0x1ca7abcffc8>,\n",
       " 'dreamt': <gensim.models.keyedvectors.Vocab at 0x1ca7abcf908>,\n",
       " 'making': <gensim.models.keyedvectors.Vocab at 0x1ca7abcfc88>,\n",
       " 'super': <gensim.models.keyedvectors.Vocab at 0x1ca763e4788>,\n",
       " 'world': <gensim.models.keyedvectors.Vocab at 0x1ca7ac159c8>,\n",
       " 'dreaming': <gensim.models.keyedvectors.Vocab at 0x1ca7ac15e88>,\n",
       " 'really': <gensim.models.keyedvectors.Vocab at 0x1ca7ac17c48>,\n",
       " 'different': <gensim.models.keyedvectors.Vocab at 0x1ca7ac17a48>,\n",
       " 'emphasized': <gensim.models.keyedvectors.Vocab at 0x1ca7ac17948>,\n",
       " 'see': <gensim.models.keyedvectors.Vocab at 0x1ca7ac170c8>,\n",
       " 'sleep': <gensim.models.keyedvectors.Vocab at 0x1ca7ac17cc8>,\n",
       " 'undoubtedly': <gensim.models.keyedvectors.Vocab at 0x1ca7ac0b8c8>,\n",
       " 'precious': <gensim.models.keyedvectors.Vocab at 0x1ca75f612c8>,\n",
       " 'wisdom': <gensim.models.keyedvectors.Vocab at 0x1ca7abf83c8>,\n",
       " 'always': <gensim.models.keyedvectors.Vocab at 0x1ca7abf8ec8>,\n",
       " 'encouraged': <gensim.models.keyedvectors.Vocab at 0x1ca7abf8788>,\n",
       " 'hard': <gensim.models.keyedvectors.Vocab at 0x1ca7abf8448>,\n",
       " 'think': <gensim.models.keyedvectors.Vocab at 0x1ca7abf8348>,\n",
       " 'result': <gensim.models.keyedvectors.Vocab at 0x1ca7abf84c8>,\n",
       " 'believed': <gensim.models.keyedvectors.Vocab at 0x1ca7abf8708>,\n",
       " 'definitely': <gensim.models.keyedvectors.Vocab at 0x1ca7abf80c8>,\n",
       " 'get': <gensim.models.keyedvectors.Vocab at 0x1ca7abf8148>,\n",
       " 'well': <gensim.models.keyedvectors.Vocab at 0x1ca7abf8208>,\n",
       " 'countless': <gensim.models.keyedvectors.Vocab at 0x1ca7abf82c8>,\n",
       " 'effort': <gensim.models.keyedvectors.Vocab at 0x1ca7abf88c8>,\n",
       " 'contribution': <gensim.models.keyedvectors.Vocab at 0x1ca7abf8c48>,\n",
       " 'sake': <gensim.models.keyedvectors.Vocab at 0x1ca7abf8508>,\n",
       " 'awarded': <gensim.models.keyedvectors.Vocab at 0x1ca7abf8b48>,\n",
       " 'bharat': <gensim.models.keyedvectors.Vocab at 0x1ca7abf8d48>,\n",
       " 'ratna': <gensim.models.keyedvectors.Vocab at 0x1ca7abf89c8>,\n",
       " 'biggest': <gensim.models.keyedvectors.Vocab at 0x1ca7abf8648>,\n",
       " 'grief': <gensim.models.keyedvectors.Vocab at 0x1ca7abf8388>,\n",
       " 'longer': <gensim.models.keyedvectors.Vocab at 0x1ca7abf8188>,\n",
       " 'amongst': <gensim.models.keyedvectors.Vocab at 0x1ca7abf86c8>,\n",
       " 'delivering': <gensim.models.keyedvectors.Vocab at 0x1ca7abf8e08>,\n",
       " 'speech': <gensim.models.keyedvectors.Vocab at 0x1ca7abf8948>,\n",
       " 'institute': <gensim.models.keyedvectors.Vocab at 0x1ca7abf8a48>,\n",
       " 'management': <gensim.models.keyedvectors.Vocab at 0x1ca7abf8f08>,\n",
       " 'shillong': <gensim.models.keyedvectors.Vocab at 0x1ca7abf8f88>,\n",
       " 'got': <gensim.models.keyedvectors.Vocab at 0x1ca7abf8fc8>,\n",
       " 'cardiac': <gensim.models.keyedvectors.Vocab at 0x1ca7abf8b88>,\n",
       " 'arrest': <gensim.models.keyedvectors.Vocab at 0x1ca7abf8688>,\n",
       " 'collapsed': <gensim.models.keyedvectors.Vocab at 0x1ca7abf8988>,\n",
       " 'even': <gensim.models.keyedvectors.Vocab at 0x1ca7abf8088>,\n",
       " 'great': <gensim.models.keyedvectors.Vocab at 0x1ca7abf8488>,\n",
       " 'left': <gensim.models.keyedvectors.Vocab at 0x1ca7abf8548>,\n",
       " 'july': <gensim.models.keyedvectors.Vocab at 0x1ca7abf8a08>,\n",
       " 'saddest': <gensim.models.keyedvectors.Vocab at 0x1ca7abf8048>,\n",
       " 'history': <gensim.models.keyedvectors.Vocab at 0x1ca7abf87c8>,\n",
       " 'though': <gensim.models.keyedvectors.Vocab at 0x1ca7abf9dc8>,\n",
       " 'still': <gensim.models.keyedvectors.Vocab at 0x1ca7abf9f88>,\n",
       " 'heart': <gensim.models.keyedvectors.Vocab at 0x1ca7abf9b48>,\n",
       " 'inspiration': <gensim.models.keyedvectors.Vocab at 0x1ca7abf9c88>,\n",
       " 'motivation': <gensim.models.keyedvectors.Vocab at 0x1ca7abf9b08>,\n",
       " 'golden': <gensim.models.keyedvectors.Vocab at 0x1ca7abf9bc8>,\n",
       " 'miraculous': <gensim.models.keyedvectors.Vocab at 0x1ca7abf9e48>,\n",
       " 'deed': <gensim.models.keyedvectors.Vocab at 0x1ca7abf9d08>,\n",
       " 'remembered': <gensim.models.keyedvectors.Vocab at 0x1ca7abf9888>,\n",
       " 'high': <gensim.models.keyedvectors.Vocab at 0x1ca7abf9e08>,\n",
       " 'stature': <gensim.models.keyedvectors.Vocab at 0x1ca7abf94c8>,\n",
       " 'value': <gensim.models.keyedvectors.Vocab at 0x1ca7abf9648>,\n",
       " 'taught': <gensim.models.keyedvectors.Vocab at 0x1ca7abf9f48>,\n",
       " 'transform': <gensim.models.keyedvectors.Vocab at 0x1ca7abf9f08>,\n",
       " 'shall': <gensim.models.keyedvectors.Vocab at 0x1ca7abc7f88>,\n",
       " 'grateful': <gensim.models.keyedvectors.Vocab at 0x1ca7abc7988>,\n",
       " 'much': <gensim.models.keyedvectors.Vocab at 0x1ca7abc7908>,\n",
       " 'thank': <gensim.models.keyedvectors.Vocab at 0x1ca7abc76c8>,\n",
       " 'evening': <gensim.models.keyedvectors.Vocab at 0x1ca7abc7b48>}"
      ]
     },
     "execution_count": 19,
     "metadata": {},
     "output_type": "execute_result"
    }
   ],
   "source": [
    "words"
   ]
  },
  {
   "cell_type": "code",
   "execution_count": 20,
   "metadata": {},
   "outputs": [],
   "source": [
    "similar = model.wv.most_similar(\"important\")"
   ]
  },
  {
   "cell_type": "code",
   "execution_count": 21,
   "metadata": {},
   "outputs": [
    {
     "data": {
      "text/plain": [
       "[('undoubtedly', 0.23574326932430267),\n",
       " ('election', 0.2092173993587494),\n",
       " ('organization', 0.1946391612291336),\n",
       " ('ratna', 0.18509593605995178),\n",
       " ('sake', 0.18237045407295227),\n",
       " ('result', 0.1751168668270111),\n",
       " ('every', 0.16591712832450867),\n",
       " ('democratic', 0.1616402119398117),\n",
       " ('stature', 0.15033096075057983),\n",
       " ('amongst', 0.15016159415245056)]"
      ]
     },
     "execution_count": 21,
     "metadata": {},
     "output_type": "execute_result"
    }
   ],
   "source": [
    "similar"
   ]
  },
  {
   "cell_type": "code",
   "execution_count": 22,
   "metadata": {},
   "outputs": [],
   "source": [
    "vector = model.wv[\"important\"]"
   ]
  },
  {
   "cell_type": "code",
   "execution_count": 25,
   "metadata": {},
   "outputs": [
    {
     "data": {
      "text/plain": [
       "array([-5.1164714e-04,  9.0717476e-05, -1.2275319e-03, -3.7881972e-03,\n",
       "        2.6015178e-03,  2.0522480e-03, -1.5488847e-03,  4.6436586e-03,\n",
       "       -4.7226832e-03,  3.0627619e-03, -4.1890860e-04, -4.0303222e-03,\n",
       "       -2.5692224e-03, -4.4272733e-03,  1.1463962e-03,  4.4331187e-03,\n",
       "        4.7671883e-03,  3.0923535e-03,  2.6582535e-03,  1.2279194e-03,\n",
       "        3.1089331e-03,  3.8268652e-03,  4.8275054e-03, -1.3178292e-04,\n",
       "       -4.4101193e-03,  4.9313395e-03,  4.3189931e-03,  4.2146365e-03,\n",
       "       -3.6784215e-03,  1.4826414e-03, -3.6366144e-03,  1.5192423e-03,\n",
       "        2.4936819e-03,  2.4294341e-03,  4.3209675e-03,  3.2232406e-03,\n",
       "        1.1724580e-04, -3.0763664e-03,  2.5011117e-03, -2.3741219e-03,\n",
       "       -5.5236247e-04, -1.0905836e-03, -2.2233452e-03,  2.4476596e-03,\n",
       "        2.4104915e-03,  3.7287192e-03, -3.8599954e-03,  7.3548633e-04,\n",
       "       -1.7285813e-03, -1.6648910e-03, -3.0690534e-03,  3.0176789e-03,\n",
       "        3.0651020e-03,  4.0846202e-04,  4.1738884e-03,  1.4281934e-03,\n",
       "       -1.0773106e-03, -3.6502723e-03, -1.4528909e-03,  1.5162941e-03,\n",
       "       -1.2393080e-03,  1.2723510e-03, -1.0069269e-03,  2.5537445e-03,\n",
       "        3.1623333e-03,  3.6139062e-03,  2.9465191e-03, -2.0669601e-03,\n",
       "       -5.9516064e-04,  4.4334179e-04, -3.3951991e-03, -1.5538457e-03,\n",
       "        2.3652550e-03,  4.8305579e-03, -4.4026719e-03,  2.3090153e-03,\n",
       "        6.5774523e-04,  1.2132670e-03,  1.3290511e-03,  4.6040420e-03,\n",
       "       -2.2165803e-03,  1.5834381e-03, -2.6645197e-03,  2.6236095e-03,\n",
       "        3.3707782e-03,  2.4080814e-03,  1.2647248e-03, -3.4250608e-03,\n",
       "        2.9389882e-03, -4.0695062e-03, -4.5907996e-03, -4.5855525e-03,\n",
       "        1.0533840e-03,  3.9158044e-03,  2.6836593e-04,  4.0508414e-04,\n",
       "        1.3029757e-03,  1.9654029e-03, -3.1876569e-03, -5.3795369e-04],\n",
       "      dtype=float32)"
      ]
     },
     "execution_count": 25,
     "metadata": {},
     "output_type": "execute_result"
    }
   ],
   "source": [
    "vector"
   ]
  },
  {
   "cell_type": "code",
   "execution_count": null,
   "metadata": {},
   "outputs": [],
   "source": []
  }
 ],
 "metadata": {
  "kernelspec": {
   "display_name": "Python 3",
   "language": "python",
   "name": "python3"
  },
  "language_info": {
   "codemirror_mode": {
    "name": "ipython",
    "version": 3
   },
   "file_extension": ".py",
   "mimetype": "text/x-python",
   "name": "python",
   "nbconvert_exporter": "python",
   "pygments_lexer": "ipython3",
   "version": "3.7.4"
  }
 },
 "nbformat": 4,
 "nbformat_minor": 2
}
