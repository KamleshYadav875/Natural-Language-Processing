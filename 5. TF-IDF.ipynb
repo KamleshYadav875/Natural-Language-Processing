{
 "cells": [
  {
   "cell_type": "markdown",
   "metadata": {},
   "source": [
    "# <center> TF-IDF</center>\n",
    "**Term Frequency (TF)** The number of times a word appears in a document divded by the total number of words in the document. Every document has its own term frequency.\n",
    "![title](https://miro.medium.com/proxy/1*HM0Vcdrx2RApOyjp_ZeW_Q.png)\n",
    "**Inverse Data Frequency (IDF)** The log of the number of documents divided by the number of documents that contain the word w. Inverse data frequency determines the weight of rare words across all documents in the corpus.\n",
    "![title](https://miro.medium.com/proxy/1*A5YGwFpcTd0YTCdgoiHFUw.png)"
   ]
  },
  {
   "cell_type": "code",
   "execution_count": 1,
   "metadata": {},
   "outputs": [],
   "source": [
    "import nltk\n",
    "from nltk.tokenize import sent_tokenize\n",
    "from nltk.stem import WordNetLemmatizer\n",
    "from nltk.corpus import stopwords\n",
    "import re\n",
    "from sklearn.feature_extraction.text import TfidfVectorizer"
   ]
  },
  {
   "cell_type": "code",
   "execution_count": 2,
   "metadata": {},
   "outputs": [],
   "source": [
    "text = \"\"\"Hello! Good morning to every last one of you presents over here. Before going ahead of I would like to extend a warm welcome to every person present over here. I am thankful to everyone present over here for giving me this beautiful opportunity to share my words about the most amazing person that ever lived, Dr. APJ Abdul Kalam. Dr. APJ Abdul Kalam was indeed one of the most humble, intelligent, \n",
    "wise, selfless, loving, and lovable leaders ever born. He was born on 15 October 1931 in Rameswaram, Tamil Nadu. He was the 11th President of India and served the country for one term. Not only this, but he also is one of the most famous scientists who have worked with highly famous organizations like DRDO (Defense Research and Development Organization) and ISRO (Indian Space Research Organization) in his career.\n",
    "He was a true gem and a person with no haters. But let us first know a little more about him. His full name was Avul Pakir Jainulabdeen Abdul Kalam. He was born in a middle-class Muslim family. Since the beginning of his days, he was a very hardworking and diligent person. In his early childhood, he helped his family to earn livelihood along with the studies. Being very intelligent and promising, he started his career and life soon.\n",
    "He saw a lot of hardships on his way to success. There was a time when his sister sold her jewelry to pay his college fees. After completing his graduation, he joined the defense department to serve the nation. And from there the journey of the famous scientist started to a never-ending tale of success. He was one of the various scientists in India who worked for the development of nuclear power. For his work, he also earned various awards and prizes.\n",
    "Dr. Kalam was one of the most important figures in the testing of the Pokhran-II in the year 1988. Politics never attracted Dr. Kalam. But in the year 2002, Indian National Democratic Alliance requested him to nominate him for the post of the President. Thinking of the nation and keen eagerness to work for the country, made him say yes. With the support of the Indian National Democratic Alliance, he won the elections and was selected as the President of India.\n",
    "He was a man of dreams and ideas. He dreamt of making India one of the super-powers in the world. His idea of dreaming was really different. He emphasized that the dreams are not those which you see when you sleep but are those which never let you sleep. Undoubtedly, these are the precious words of wisdom. He always encouraged everyone to work hard and not think about the result. He believed, if you work hard, you will definitely get the result as well.\n",
    "Some countless efforts and contributions are made by Dr. Kalam for the sake of the nation. He was awarded by Bharat Ratna in the year 1997. But, the biggest grief is that we have no longer this beautiful amongst us. While delivering his speech at the Institute of Management, Shillong he got cardiac arrest and collapsed. Even after great efforts, he left us, making 27 July 2015 one of the saddest days in the history of India.\n",
    "At last, I would like to say even though he left us, he is still in our hearts as the inspiration and the motivation. His golden words and miraculous deeds will always be remembered. He was a man of high stature and value who taught us the way to transform our nation and we shall always be grateful to him.\n",
    "Much thank you to all of you. Have a great evening!\"\"\""
   ]
  },
  {
   "cell_type": "markdown",
   "metadata": {},
   "source": [
    "### Text-preprocessing"
   ]
  },
  {
   "cell_type": "code",
   "execution_count": 3,
   "metadata": {},
   "outputs": [],
   "source": [
    "sentance = sent_tokenize(text)"
   ]
  },
  {
   "cell_type": "code",
   "execution_count": 4,
   "metadata": {},
   "outputs": [],
   "source": [
    "wordNet = WordNetLemmatizer()"
   ]
  },
  {
   "cell_type": "code",
   "execution_count": 5,
   "metadata": {},
   "outputs": [],
   "source": [
    "corpus =[]\n",
    "for i in range(len(sentance)):\n",
    "    review = sentance[i]\n",
    "    review = re.sub('[^a-zA-Z]',\" \", review)\n",
    "    review = review.lower()\n",
    "    review = review.split()\n",
    "    review = [wordNet.lemmatize(word) for word in review if not word in set(stopwords.words(\"english\"))]\n",
    "    corpus.append(\" \".join(review))    "
   ]
  },
  {
   "cell_type": "code",
   "execution_count": 6,
   "metadata": {},
   "outputs": [
    {
     "data": {
      "text/plain": [
       "['hello',\n",
       " 'good morning every last one present',\n",
       " 'going ahead would like extend warm welcome every person present',\n",
       " 'thankful everyone present giving beautiful opportunity share word amazing person ever lived dr apj abdul kalam',\n",
       " 'dr apj abdul kalam indeed one humble intelligent wise selfless loving lovable leader ever born',\n",
       " 'born october rameswaram tamil nadu',\n",
       " 'th president india served country one term',\n",
       " 'also one famous scientist worked highly famous organization like drdo defense research development organization isro indian space research organization career',\n",
       " 'true gem person hater',\n",
       " 'let u first know little',\n",
       " 'full name avul pakir jainulabdeen abdul kalam',\n",
       " 'born middle class muslim family',\n",
       " 'since beginning day hardworking diligent person',\n",
       " 'early childhood helped family earn livelihood along study',\n",
       " 'intelligent promising started career life soon',\n",
       " 'saw lot hardship way success',\n",
       " 'time sister sold jewelry pay college fee',\n",
       " 'completing graduation joined defense department serve nation',\n",
       " 'journey famous scientist started never ending tale success',\n",
       " 'one various scientist india worked development nuclear power',\n",
       " 'work also earned various award prize',\n",
       " 'dr kalam one important figure testing pokhran ii year',\n",
       " 'politics never attracted dr kalam',\n",
       " 'year indian national democratic alliance requested nominate post president',\n",
       " 'thinking nation keen eagerness work country made say yes',\n",
       " 'support indian national democratic alliance election selected president india',\n",
       " 'man dream idea',\n",
       " 'dreamt making india one super power world',\n",
       " 'idea dreaming really different',\n",
       " 'emphasized dream see sleep never let sleep',\n",
       " 'undoubtedly precious word wisdom',\n",
       " 'always encouraged everyone work hard think result',\n",
       " 'believed work hard definitely get result well',\n",
       " 'countless effort contribution made dr kalam sake nation',\n",
       " 'awarded bharat ratna year',\n",
       " 'biggest grief longer beautiful amongst u',\n",
       " 'delivering speech institute management shillong got cardiac arrest collapsed',\n",
       " 'even great effort left u making july one saddest day history india',\n",
       " 'last would like say even though left u still heart inspiration motivation',\n",
       " 'golden word miraculous deed always remembered',\n",
       " 'man high stature value taught u way transform nation shall always grateful',\n",
       " 'much thank',\n",
       " 'great evening']"
      ]
     },
     "execution_count": 6,
     "metadata": {},
     "output_type": "execute_result"
    }
   ],
   "source": [
    "corpus"
   ]
  },
  {
   "cell_type": "code",
   "execution_count": 7,
   "metadata": {},
   "outputs": [],
   "source": [
    "tfidf = TfidfVectorizer()"
   ]
  },
  {
   "cell_type": "code",
   "execution_count": 8,
   "metadata": {},
   "outputs": [],
   "source": [
    "x = tfidf.fit_transform(corpus)"
   ]
  },
  {
   "cell_type": "code",
   "execution_count": 9,
   "metadata": {},
   "outputs": [
    {
     "data": {
      "text/plain": [
       "array([[0.        , 0.        , 0.        , ..., 0.        , 0.        ,\n",
       "        0.        ],\n",
       "       [0.        , 0.        , 0.        , ..., 0.        , 0.        ,\n",
       "        0.        ],\n",
       "       [0.        , 0.3408959 , 0.        , ..., 0.30710955, 0.        ,\n",
       "        0.        ],\n",
       "       ...,\n",
       "       [0.        , 0.        , 0.        , ..., 0.        , 0.        ,\n",
       "        0.        ],\n",
       "       [0.        , 0.        , 0.        , ..., 0.        , 0.        ,\n",
       "        0.        ],\n",
       "       [0.        , 0.        , 0.        , ..., 0.        , 0.        ,\n",
       "        0.        ]])"
      ]
     },
     "execution_count": 9,
     "metadata": {},
     "output_type": "execute_result"
    }
   ],
   "source": [
    "x.toarray()"
   ]
  }
 ],
 "metadata": {
  "kernelspec": {
   "display_name": "Python 3",
   "language": "python",
   "name": "python3"
  },
  "language_info": {
   "codemirror_mode": {
    "name": "ipython",
    "version": 3
   },
   "file_extension": ".py",
   "mimetype": "text/x-python",
   "name": "python",
   "nbconvert_exporter": "python",
   "pygments_lexer": "ipython3",
   "version": "3.7.4"
  }
 },
 "nbformat": 4,
 "nbformat_minor": 2
}
