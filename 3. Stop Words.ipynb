{
 "cells": [
  {
   "cell_type": "markdown",
   "metadata": {},
   "source": [
    "# <center>Stop Words</center>\n",
    "Stop Words: A stop word is a commonly used word (such as “the”, “a”, “an”, “in”) that a search engine has been programmed to ignore, both when indexing entries for searching and when retrieving them as the result of a search query."
   ]
  },
  {
   "cell_type": "code",
   "execution_count": 8,
   "metadata": {},
   "outputs": [],
   "source": [
    "import nltk\n",
    "from nltk.corpus import stopwords\n",
    "from nltk.tokenize import word_tokenize"
   ]
  },
  {
   "cell_type": "code",
   "execution_count": 2,
   "metadata": {},
   "outputs": [],
   "source": [
    "text = \"\"\"Hello! Good morning to every last one of you presents over here. Before going ahead of I would like to extend a warm welcome to every person present over here. I am thankful to everyone present over here for giving me this beautiful opportunity to share my words about the most amazing person that ever lived, Dr. APJ Abdul Kalam. Dr. APJ Abdul Kalam was indeed one of the most humble, intelligent, \n",
    "wise, selfless, loving, and lovable leaders ever born. He was born on 15 October 1931 in Rameswaram, Tamil Nadu. He was the 11th President of India and served the country for one term. Not only this, but he also is one of the most famous scientists who have worked with highly famous organizations like DRDO (Defense Research and Development Organization) and ISRO (Indian Space Research Organization) in his career.\n",
    "He was a true gem and a person with no haters. But let us first know a little more about him. His full name was Avul Pakir Jainulabdeen Abdul Kalam. He was born in a middle-class Muslim family. Since the beginning of his days, he was a very hardworking and diligent person. In his early childhood, he helped his family to earn livelihood along with the studies. Being very intelligent and promising, he started his career and life soon.\n",
    "He saw a lot of hardships on his way to success. There was a time when his sister sold her jewelry to pay his college fees. After completing his graduation, he joined the defense department to serve the nation. And from there the journey of the famous scientist started to a never-ending tale of success. He was one of the various scientists in India who worked for the development of nuclear power. For his work, he also earned various awards and prizes.\n",
    "Dr. Kalam was one of the most important figures in the testing of the Pokhran-II in the year 1988. Politics never attracted Dr. Kalam. But in the year 2002, Indian National Democratic Alliance requested him to nominate him for the post of the President. Thinking of the nation and keen eagerness to work for the country, made him say yes. With the support of the Indian National Democratic Alliance, he won the elections and was selected as the President of India.\n",
    "He was a man of dreams and ideas. He dreamt of making India one of the super-powers in the world. His idea of dreaming was really different. He emphasized that the dreams are not those which you see when you sleep but are those which never let you sleep. Undoubtedly, these are the precious words of wisdom. He always encouraged everyone to work hard and not think about the result. He believed, if you work hard, you will definitely get the result as well.\n",
    "Some countless efforts and contributions are made by Dr. Kalam for the sake of the nation. He was awarded by Bharat Ratna in the year 1997. But, the biggest grief is that we have no longer this beautiful amongst us. While delivering his speech at the Institute of Management, Shillong he got cardiac arrest and collapsed. Even after great efforts, he left us, making 27 July 2015 one of the saddest days in the history of India.\n",
    "At last, I would like to say even though he left us, he is still in our hearts as the inspiration and the motivation. His golden words and miraculous deeds will always be remembered. He was a man of high stature and value who taught us the way to transform our nation and we shall always be grateful to him.\n",
    "Much thank you to all of you. Have a great evening!\"\"\""
   ]
  },
  {
   "cell_type": "code",
   "execution_count": 7,
   "metadata": {},
   "outputs": [
    {
     "name": "stdout",
     "output_type": "stream",
     "text": [
      "{'should', 'myself', \"you'll\", 'yourself', 'i', 'y', 'you', 'they', 'over', 'his', 'o', \"haven't\", \"hadn't\", 'it', 'hasn', 'needn', 'don', 'which', 'll', 'hadn', 'shan', \"won't\", 'him', 'the', 'same', 'until', 'ma', \"she's\", 'himself', 'shouldn', 'all', 'other', 'hers', \"couldn't\", 'herself', 'only', 'when', 'ourselves', 'so', \"aren't\", 'these', 'do', 'but', 'very', \"don't\", 'where', 'that', 'and', 'with', 'was', \"weren't\", 'some', 'against', 'am', 'he', 'most', 'she', 'from', \"mustn't\", 'we', \"needn't\", 'will', \"it's\", \"you're\", 'any', 'doesn', \"mightn't\", 've', 'won', 'had', 'does', 'my', 'have', 'if', 'below', 'not', \"wouldn't\", 'such', 'be', 'those', 'than', 'here', \"didn't\", 'no', 'who', 'ours', 'then', 'about', 'nor', 'itself', 'a', 'out', 't', 'haven', 'through', 'up', 'didn', 's', 'of', 'because', 're', 'just', 'ain', 'having', 'to', 'for', 'now', 'an', 'as', 'there', 'wasn', 'more', 'theirs', 'both', 'are', 'their', 'isn', 'your', 'once', 'its', 'weren', \"wasn't\", 'our', 'off', 'at', 'were', 'after', 'own', 'themselves', 'again', 'before', 'by', 'doing', 'mightn', 'into', 'yours', 'while', 'under', 'how', \"hasn't\", \"that'll\", \"you'd\", 'above', 'in', 'can', 'aren', 'is', 'mustn', 'did', \"doesn't\", 'what', 'been', \"should've\", 'm', 'during', 'on', 'has', 'between', \"shan't\", 'too', \"shouldn't\", 'down', 'further', 'each', 'me', 'couldn', 'whom', 'yourselves', 'd', 'this', 'or', 'her', \"isn't\", 'few', 'wouldn', 'being', 'why', 'them', \"you've\"}\n"
     ]
    }
   ],
   "source": [
    "print(set(stopwords.words(\"english\")))"
   ]
  },
  {
   "cell_type": "code",
   "execution_count": 9,
   "metadata": {},
   "outputs": [],
   "source": [
    "removed_stopwords = [word for word in word_tokenize(text) if word not in set(stopwords.words(\"english\"))]"
   ]
  },
  {
   "cell_type": "code",
   "execution_count": 12,
   "metadata": {},
   "outputs": [
    {
     "name": "stdout",
     "output_type": "stream",
     "text": [
      "Hello ! Good morning every last one presents . Before going ahead I would like extend warm welcome every person present . I thankful everyone present giving beautiful opportunity share words amazing person ever lived , Dr. APJ Abdul Kalam . Dr. APJ Abdul Kalam indeed one humble , intelligent , wise , selfless , loving , lovable leaders ever born . He born 15 October 1931 Rameswaram , Tamil Nadu . He 11th President India served country one term . Not , also one famous scientists worked highly famous organizations like DRDO ( Defense Research Development Organization ) ISRO ( Indian Space Research Organization ) career . He true gem person haters . But let us first know little . His full name Avul Pakir Jainulabdeen Abdul Kalam . He born middle-class Muslim family . Since beginning days , hardworking diligent person . In early childhood , helped family earn livelihood along studies . Being intelligent promising , started career life soon . He saw lot hardships way success . There time sister sold jewelry pay college fees . After completing graduation , joined defense department serve nation . And journey famous scientist started never-ending tale success . He one various scientists India worked development nuclear power . For work , also earned various awards prizes . Dr. Kalam one important figures testing Pokhran-II year 1988 . Politics never attracted Dr. Kalam . But year 2002 , Indian National Democratic Alliance requested nominate post President . Thinking nation keen eagerness work country , made say yes . With support Indian National Democratic Alliance , elections selected President India . He man dreams ideas . He dreamt making India one super-powers world . His idea dreaming really different . He emphasized dreams see sleep never let sleep . Undoubtedly , precious words wisdom . He always encouraged everyone work hard think result . He believed , work hard , definitely get result well . Some countless efforts contributions made Dr. Kalam sake nation . He awarded Bharat Ratna year 1997 . But , biggest grief longer beautiful amongst us . While delivering speech Institute Management , Shillong got cardiac arrest collapsed . Even great efforts , left us , making 27 July 2015 one saddest days history India . At last , I would like say even though left us , still hearts inspiration motivation . His golden words miraculous deeds always remembered . He man high stature value taught us way transform nation shall always grateful . Much thank . Have great evening !\n"
     ]
    }
   ],
   "source": [
    "print(\" \".join(removed_stopwords))"
   ]
  },
  {
   "cell_type": "code",
   "execution_count": null,
   "metadata": {},
   "outputs": [],
   "source": []
  }
 ],
 "metadata": {
  "kernelspec": {
   "display_name": "Python 3",
   "language": "python",
   "name": "python3"
  },
  "language_info": {
   "codemirror_mode": {
    "name": "ipython",
    "version": 3
   },
   "file_extension": ".py",
   "mimetype": "text/x-python",
   "name": "python",
   "nbconvert_exporter": "python",
   "pygments_lexer": "ipython3",
   "version": "3.7.4"
  }
 },
 "nbformat": 4,
 "nbformat_minor": 2
}
